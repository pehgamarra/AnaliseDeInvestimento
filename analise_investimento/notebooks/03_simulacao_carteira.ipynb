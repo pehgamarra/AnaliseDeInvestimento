{
 "cells": [
  {
   "cell_type": "markdown",
   "id": "e544d467",
   "metadata": {},
   "source": [
    "## Simulação Carteiras de Investimento"
   ]
  },
  {
   "cell_type": "markdown",
   "id": "62f8e5dc",
   "metadata": {},
   "source": [
    "* Imports"
   ]
  },
  {
   "cell_type": "code",
   "execution_count": null,
   "id": "aa490143",
   "metadata": {},
   "outputs": [],
   "source": [
    "import pandas as pd\n",
    "import numpy as np\n",
    "import matplotlib.pyplot as plt\n",
    "import plotly.express as px\n",
    "from scipy.optimize import minimize\n",
    "import sys\n",
    "sys.path.append('../scripts')\n",
    "from simulacao import *"
   ]
  },
  {
   "cell_type": "markdown",
   "id": "91747bf3",
   "metadata": {},
   "source": [
    "* Carregar Dados"
   ]
  },
  {
   "cell_type": "code",
   "execution_count": null,
   "id": "16731071",
   "metadata": {},
   "outputs": [],
   "source": [
    "caminho_csv = '../data/processed/dados_ativos.csv'\n",
    "dados = pd.read_csv(caminho_csv)\n",
    "dados['Date'] = pd.to_datetime(dados['Date'])\n",
    "dados.set_index('Date', inplace=True)\n",
    "dados = dados.dropna()"
   ]
  },
  {
   "cell_type": "markdown",
   "id": "05c73eee",
   "metadata": {},
   "source": [
    "* Escolhendo Ativos\n"
   ]
  },
  {
   "cell_type": "code",
   "execution_count": null,
   "id": "25e9b927",
   "metadata": {},
   "outputs": [],
   "source": [
    "ativos = ['BOVA11.SA', 'ITUB4.SA', 'BTC-USD', 'VALE3.SA']"
   ]
  },
  {
   "cell_type": "code",
   "execution_count": null,
   "id": "9948559c",
   "metadata": {},
   "outputs": [],
   "source": [
    "retornos = dados[ativos].pct_change().dropna()"
   ]
  },
  {
   "cell_type": "markdown",
   "id": "13aa3ee9",
   "metadata": {},
   "source": [
    "## Gerar relatorio"
   ]
  },
  {
   "cell_type": "code",
   "execution_count": null,
   "id": "8f00bbfe",
   "metadata": {},
   "outputs": [],
   "source": [
    "out = relatorio_completo(dados, ativos, capital=10000, n_portfs=10000, benchmark_series=None)"
   ]
  }
 ],
 "metadata": {
  "kernelspec": {
   "display_name": "base",
   "language": "python",
   "name": "python3"
  },
  "language_info": {
   "codemirror_mode": {
    "name": "ipython",
    "version": 3
   },
   "file_extension": ".py",
   "mimetype": "text/x-python",
   "name": "python",
   "nbconvert_exporter": "python",
   "pygments_lexer": "ipython3",
   "version": "3.13.3"
  }
 },
 "nbformat": 4,
 "nbformat_minor": 5
}
