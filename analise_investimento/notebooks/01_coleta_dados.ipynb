{
 "cells": [
  {
   "cell_type": "markdown",
   "id": "f6beb0d4",
   "metadata": {},
   "source": [
    "##  Coleta de Dados Financeiros - Ações, Cripto, Selic e Tesouro"
   ]
  },
  {
   "cell_type": "markdown",
   "id": "da35e37e",
   "metadata": {},
   "source": [
    "* Imports\n"
   ]
  },
  {
   "cell_type": "code",
   "execution_count": null,
   "id": "028970b8",
   "metadata": {},
   "outputs": [],
   "source": [
    "import pandas as pd\n",
    "import sys\n",
    "sys.path.append('../scripts')\n",
    "\n",
    "from coleta import (\n",
    "    baixar_dados_yf,\n",
    "    pegar_preco_cripto,\n",
    ")\n",
    "from coleta import ColetorDados"
   ]
  },
  {
   "cell_type": "markdown",
   "id": "1f881514",
   "metadata": {},
   "source": [
    "* Usar coletor"
   ]
  },
  {
   "cell_type": "code",
   "execution_count": null,
   "id": "9f01307c",
   "metadata": {},
   "outputs": [],
   "source": [
    "coletor = ColetorDados()"
   ]
  },
  {
   "cell_type": "markdown",
   "id": "d707ce5c",
   "metadata": {},
   "source": [
    "* Escolher quais dados coletar"
   ]
  },
  {
   "cell_type": "code",
   "execution_count": null,
   "id": "52d4ce70",
   "metadata": {},
   "outputs": [],
   "source": [
    "coletor.adicionar_tickers_de_arquivo(\"tickers.txt\")\n",
    "dados = coletor.coletar_todos()"
   ]
  },
  {
   "cell_type": "code",
   "execution_count": null,
   "id": "da1a2512",
   "metadata": {},
   "outputs": [],
   "source": [
    "coletor.adicionar_ativos(['^BVSP', 'BRL=X', 'ITUB4.SA', 'PETR4.SA', 'BOVA11.SA']) \\\n",
    "       .adicionar_criptos(['bitcoin', 'ethereum'])\n"
   ]
  },
  {
   "cell_type": "markdown",
   "id": "f57e09fb",
   "metadata": {},
   "source": [
    "* Verifica a configuração"
   ]
  },
  {
   "cell_type": "code",
   "execution_count": null,
   "id": "16439670",
   "metadata": {},
   "outputs": [],
   "source": [
    "coletor.resumo()"
   ]
  },
  {
   "cell_type": "markdown",
   "id": "a0ee31fc",
   "metadata": {},
   "source": [
    "* Coleta tudo de uma vez"
   ]
  },
  {
   "cell_type": "code",
   "execution_count": null,
   "id": "e02e4f9c",
   "metadata": {},
   "outputs": [],
   "source": [
    "dados = coletor.coletar_todos()"
   ]
  },
  {
   "cell_type": "code",
   "execution_count": null,
   "id": "bd7cd38a",
   "metadata": {},
   "outputs": [],
   "source": [
    "dados.tail(7000)"
   ]
  },
  {
   "cell_type": "markdown",
   "id": "ba567547",
   "metadata": {},
   "source": [
    "* Salvar os dados processados"
   ]
  },
  {
   "cell_type": "code",
   "execution_count": null,
   "id": "825ed505",
   "metadata": {},
   "outputs": [],
   "source": [
    "dados.to_csv('../data/processed/dados_ativos.csv')\n",
    "\n",
    "print(\"Dados coletados e salvos com sucesso!\")"
   ]
  }
 ],
 "metadata": {
  "kernelspec": {
   "display_name": "base",
   "language": "python",
   "name": "python3"
  },
  "language_info": {
   "codemirror_mode": {
    "name": "ipython",
    "version": 3
   },
   "file_extension": ".py",
   "mimetype": "text/x-python",
   "name": "python",
   "nbconvert_exporter": "python",
   "pygments_lexer": "ipython3",
   "version": "3.13.3"
  }
 },
 "nbformat": 4,
 "nbformat_minor": 5
}
