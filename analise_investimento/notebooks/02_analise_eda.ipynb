{
 "cells": [
  {
   "cell_type": "markdown",
   "id": "fa749ced",
   "metadata": {},
   "source": [
    "## Analise exploratoria de Dados"
   ]
  },
  {
   "cell_type": "markdown",
   "id": "24773bc4",
   "metadata": {},
   "source": [
    "* Imports"
   ]
  },
  {
   "cell_type": "code",
   "execution_count": null,
   "id": "bfb9ba39",
   "metadata": {},
   "outputs": [],
   "source": [
    "import sys\n",
    "sys.path.append('../scripts')\n",
    "from analise import *\n",
    "from visualizacao import *"
   ]
  },
  {
   "cell_type": "markdown",
   "id": "bee5a355",
   "metadata": {},
   "source": [
    "* Carregar Dados"
   ]
  },
  {
   "cell_type": "code",
   "execution_count": null,
   "id": "b2fe044e",
   "metadata": {},
   "outputs": [],
   "source": [
    "dados = carregar_dados('../data/processed/dados_ativos.csv')"
   ]
  },
  {
   "cell_type": "markdown",
   "id": "aae4c679",
   "metadata": {},
   "source": [
    "* Definir Ativos:"
   ]
  },
  {
   "cell_type": "code",
   "execution_count": null,
   "id": "a0d3a6db",
   "metadata": {},
   "outputs": [],
   "source": [
    "ativos = ['BOVA11.SA', 'ITUB4.SA', 'PETR4.SA', 'MGLU3.SA', 'VALE3.SA']"
   ]
  },
  {
   "cell_type": "markdown",
   "id": "3853babd",
   "metadata": {},
   "source": [
    "# Análises Rapidas"
   ]
  },
  {
   "cell_type": "code",
   "execution_count": null,
   "id": "b129bf3a",
   "metadata": {},
   "outputs": [],
   "source": [
    "plotar_interativo(dados, ativos)\n",
    "matriz_correlacao(dados, ativos)"
   ]
  },
  {
   "cell_type": "markdown",
   "id": "c9e28798",
   "metadata": {},
   "source": [
    "# Métricas"
   ]
  },
  {
   "cell_type": "code",
   "execution_count": null,
   "id": "d5185490",
   "metadata": {},
   "outputs": [],
   "source": [
    "metricas = metricas_risco_retorno(dados, ativos)\n",
    "grafico_risco_retorno(metricas)"
   ]
  },
  {
   "cell_type": "markdown",
   "id": "2a4a6083",
   "metadata": {},
   "source": [
    "# Análises específicas"
   ]
  },
  {
   "cell_type": "code",
   "execution_count": null,
   "id": "6c9b3ecd",
   "metadata": {},
   "outputs": [],
   "source": [
    "analise_drawdown(dados, ativos)\n",
    "valorizacao_total(dados, ativos)\n",
    "estatisticas_descritivas(dados, ativos)"
   ]
  },
  {
   "cell_type": "markdown",
   "id": "01f9fd62",
   "metadata": {},
   "source": [
    "# Relátorio Completo"
   ]
  },
  {
   "cell_type": "code",
   "execution_count": null,
   "id": "da88e304",
   "metadata": {},
   "outputs": [],
   "source": [
    "relatorio_resumido(dados, ativos)"
   ]
  }
 ],
 "metadata": {
  "kernelspec": {
   "display_name": "base",
   "language": "python",
   "name": "python3"
  },
  "language_info": {
   "codemirror_mode": {
    "name": "ipython",
    "version": 3
   },
   "file_extension": ".py",
   "mimetype": "text/x-python",
   "name": "python",
   "nbconvert_exporter": "python",
   "pygments_lexer": "ipython3",
   "version": "3.13.3"
  }
 },
 "nbformat": 4,
 "nbformat_minor": 5
}
